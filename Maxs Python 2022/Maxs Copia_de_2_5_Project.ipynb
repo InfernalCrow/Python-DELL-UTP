{
  "cells": [
    {
      "cell_type": "markdown",
      "metadata": {
        "id": "zlNhvP6Ruuov"
      },
      "source": [
        "![Data Science Black@300x.png](https://i.imgur.com/KIHm5UF.png)\n",
        "\n",
        "# Proyecto\n",
        "\n",
        "**Descripcion:** Consulta de Yahoo API a valores de la bolsa y procesarlo con la libreria de Python\n",
        "\n",
        "¿Tienes un dataset y quieres sacarle partido? ¿Necesitas analizar los datos de un archivo .csv? Pandas es una librería de Python con multitud de métodos y funcionalidades que te permitirán desgranar y agrupar la información que esconden esos datos para tomar decisiones.\n",
        "\n",
        "En este post te presento los primeros pasos para poder manejarte con la librería Pandas de Python. En próximos artículos, te muestro cómo trabajar con los datos de DataFrames, visualizaciones, etc. Pero para comenzar, ¡unos pasos básicos!"
      ]
    },
    {
      "cell_type": "markdown",
      "metadata": {
        "id": "e6X7x8gCuupK"
      },
      "source": [
        "# DataFrame vs. Series\n",
        "\n",
        "Dos términos técnicos muy útiles para hacerte con el vocabulario de pandas son DataFrame y Serie. La tabla que almacena los datos no se llama tabla, si no DataFrame y las columnas, se denominan Series."
      ]
    },
    {
      "cell_type": "markdown",
      "metadata": {
        "id": "G5ocRRnjuupN"
      },
      "source": [
        "![image1](https://pbpython.com/images/pandas_dtypes.png)\n",
        "\n",
        "![image2](https://miro.medium.com/max/1400/1*4TlRz6qT-TFKm9etPbAu3w.png)"
      ]
    },
    {
      "cell_type": "markdown",
      "metadata": {
        "id": "wGJ2gViNuupO"
      },
      "source": [
        "# Importa pandas\n",
        "\n",
        "Para comenzar, necesitas tener instalado algunas de las librerías (en Terminal: pip3 install y el nombre de la librería), que se importan al inicio del documento .ipynb / .py. Puedes darle un alias para que al hacer uso de ellas sea más cómodo llamarlas. Por convención, a pandas se le da el alias “pd”."
      ]
    },
    {
      "cell_type": "code",
      "execution_count": 2,
      "metadata": {
        "id": "6W6oA31kuupR",
        "outputId": "2aa9bc36-7b4a-466e-c38b-5a2d31a87288",
        "colab": {
          "base_uri": "https://localhost:8080/",
          "height": 607
        }
      },
      "outputs": [
        {
          "output_type": "stream",
          "name": "stdout",
          "text": [
            "Looking in indexes: https://pypi.org/simple, https://us-python.pkg.dev/colab-wheels/public/simple/\n",
            "Requirement already satisfied: pandas in /usr/local/lib/python3.7/dist-packages (1.3.5)\n",
            "Collecting yfinance\n",
            "  Downloading yfinance-0.1.84-py2.py3-none-any.whl (29 kB)\n",
            "Requirement already satisfied: matplotlib in /usr/local/lib/python3.7/dist-packages (3.2.2)\n",
            "Requirement already satisfied: python-dateutil>=2.7.3 in /usr/local/lib/python3.7/dist-packages (from pandas) (2.8.2)\n",
            "Requirement already satisfied: numpy>=1.17.3 in /usr/local/lib/python3.7/dist-packages (from pandas) (1.21.6)\n",
            "Requirement already satisfied: pytz>=2017.3 in /usr/local/lib/python3.7/dist-packages (from pandas) (2022.5)\n",
            "Requirement already satisfied: six>=1.5 in /usr/local/lib/python3.7/dist-packages (from python-dateutil>=2.7.3->pandas) (1.15.0)\n",
            "Collecting requests>=2.26\n",
            "  Downloading requests-2.28.1-py3-none-any.whl (62 kB)\n",
            "\u001b[K     |████████████████████████████████| 62 kB 1.3 MB/s \n",
            "\u001b[?25hRequirement already satisfied: appdirs>=1.4.4 in /usr/local/lib/python3.7/dist-packages (from yfinance) (1.4.4)\n",
            "Requirement already satisfied: multitasking>=0.0.7 in /usr/local/lib/python3.7/dist-packages (from yfinance) (0.0.11)\n",
            "Requirement already satisfied: lxml>=4.5.1 in /usr/local/lib/python3.7/dist-packages (from yfinance) (4.9.1)\n",
            "Requirement already satisfied: certifi>=2017.4.17 in /usr/local/lib/python3.7/dist-packages (from requests>=2.26->yfinance) (2022.9.24)\n",
            "Requirement already satisfied: urllib3<1.27,>=1.21.1 in /usr/local/lib/python3.7/dist-packages (from requests>=2.26->yfinance) (1.24.3)\n",
            "Requirement already satisfied: charset-normalizer<3,>=2 in /usr/local/lib/python3.7/dist-packages (from requests>=2.26->yfinance) (2.1.1)\n",
            "Requirement already satisfied: idna<4,>=2.5 in /usr/local/lib/python3.7/dist-packages (from requests>=2.26->yfinance) (2.10)\n",
            "Requirement already satisfied: cycler>=0.10 in /usr/local/lib/python3.7/dist-packages (from matplotlib) (0.11.0)\n",
            "Requirement already satisfied: pyparsing!=2.0.4,!=2.1.2,!=2.1.6,>=2.0.1 in /usr/local/lib/python3.7/dist-packages (from matplotlib) (3.0.9)\n",
            "Requirement already satisfied: kiwisolver>=1.0.1 in /usr/local/lib/python3.7/dist-packages (from matplotlib) (1.4.4)\n",
            "Requirement already satisfied: typing-extensions in /usr/local/lib/python3.7/dist-packages (from kiwisolver>=1.0.1->matplotlib) (4.1.1)\n",
            "Installing collected packages: requests, yfinance\n",
            "  Attempting uninstall: requests\n",
            "    Found existing installation: requests 2.23.0\n",
            "    Uninstalling requests-2.23.0:\n",
            "      Successfully uninstalled requests-2.23.0\n",
            "Successfully installed requests-2.28.1 yfinance-0.1.84\n"
          ]
        },
        {
          "output_type": "display_data",
          "data": {
            "application/vnd.colab-display-data+json": {
              "pip_warning": {
                "packages": [
                  "requests"
                ]
              }
            }
          },
          "metadata": {}
        }
      ],
      "source": [
        "!pip install pandas yfinance matplotlib"
      ]
    },
    {
      "cell_type": "code",
      "execution_count": 3,
      "metadata": {
        "id": "lb9_X7lduupX"
      },
      "outputs": [],
      "source": [
        "import pandas as pd"
      ]
    },
    {
      "cell_type": "markdown",
      "metadata": {
        "id": "DIMyMVqeuupY"
      },
      "source": [
        "La librería pandas es una herramienta desarrollada sobre Python, muy útil y flexible para análisis de datos, ya que partiendo de un dataset te permite generar un DataFrame y analizarlo gracias a diferentes métodos."
      ]
    },
    {
      "cell_type": "code",
      "execution_count": 4,
      "metadata": {
        "id": "ar0gqhhYuupb",
        "outputId": "6b5d0d89-fa7c-465b-af02-1e731b3ccd7c",
        "colab": {
          "base_uri": "https://localhost:8080/"
        }
      },
      "outputs": [
        {
          "output_type": "execute_result",
          "data": {
            "text/plain": [
              "{'zip': '98052-6399',\n",
              " 'sector': 'Technology',\n",
              " 'fullTimeEmployees': 221000,\n",
              " 'longBusinessSummary': 'Microsoft Corporation develops, licenses, and supports software, services, devices, and solutions worldwide. The company operates in three segments: Productivity and Business Processes, Intelligent Cloud, and More Personal Computing. The Productivity and Business Processes segment offers Office, Exchange, SharePoint, Microsoft Teams, Office 365 Security and Compliance, Microsoft Viva, and Skype for Business; Skype, Outlook.com, OneDrive, and LinkedIn; and Dynamics 365, a set of cloud-based and on-premises business solutions for organizations and enterprise divisions. The Intelligent Cloud segment licenses SQL, Windows Servers, Visual Studio, System Center, and related Client Access Licenses; GitHub that provides a collaboration platform and code hosting service for developers; Nuance provides healthcare and enterprise AI solutions; and Azure, a cloud platform. It also offers enterprise support, Microsoft consulting, and nuance professional services to assist customers in developing, deploying, and managing Microsoft server and desktop solutions; and training and certification on Microsoft products. The More Personal Computing segment provides Windows original equipment manufacturer (OEM) licensing and other non-volume licensing of the Windows operating system; Windows Commercial, such as volume licensing of the Windows operating system, Windows cloud services, and other Windows commercial offerings; patent licensing; and Windows Internet of Things. It also offers Surface, PC accessories, PCs, tablets, gaming and entertainment consoles, and other devices; Gaming, including Xbox hardware, and Xbox content and services; video games and third-party video game royalties; and Search, including Bing and Microsoft advertising. The company sells its products through OEMs, distributors, and resellers; and directly through digital marketplaces, online stores, and retail stores. Microsoft Corporation was founded in 1975 and is headquartered in Redmond, Washington.',\n",
              " 'city': 'Redmond',\n",
              " 'phone': '425 882 8080',\n",
              " 'state': 'WA',\n",
              " 'country': 'United States',\n",
              " 'companyOfficers': [],\n",
              " 'website': 'https://www.microsoft.com',\n",
              " 'maxAge': 1,\n",
              " 'address1': 'One Microsoft Way',\n",
              " 'fax': '425 706 7329',\n",
              " 'industry': 'Software—Infrastructure',\n",
              " 'ebitdaMargins': 0.49418998,\n",
              " 'profitMargins': 0.36686,\n",
              " 'grossMargins': 0.68402,\n",
              " 'operatingCashflow': 89034997760,\n",
              " 'revenueGrowth': 0.124,\n",
              " 'operatingMargins': 0.42055,\n",
              " 'ebitda': 97982996480,\n",
              " 'targetLowPrice': 255,\n",
              " 'recommendationKey': 'buy',\n",
              " 'grossProfits': 135620000000,\n",
              " 'freeCashflow': 49479000064,\n",
              " 'targetMedianPrice': 296,\n",
              " 'currentPrice': 235.8183,\n",
              " 'earningsGrowth': 0.031,\n",
              " 'currentRatio': 1.785,\n",
              " 'returnOnAssets': 0.14919,\n",
              " 'numberOfAnalystOpinions': 45,\n",
              " 'targetMeanPrice': 307.58,\n",
              " 'debtToEquity': 47.075,\n",
              " 'returnOnEquity': 0.47151002,\n",
              " 'targetHighPrice': 411,\n",
              " 'totalCash': 104748998656,\n",
              " 'totalDebt': 78399995904,\n",
              " 'totalRevenue': 198269992960,\n",
              " 'totalCashPerShare': 14.045,\n",
              " 'financialCurrency': 'USD',\n",
              " 'revenuePerShare': 26.45,\n",
              " 'quickRatio': 1.567,\n",
              " 'recommendationMean': 1.7,\n",
              " 'exchange': 'NMS',\n",
              " 'shortName': 'Microsoft Corporation',\n",
              " 'longName': 'Microsoft Corporation',\n",
              " 'exchangeTimezoneName': 'America/New_York',\n",
              " 'exchangeTimezoneShortName': 'EDT',\n",
              " 'isEsgPopulated': False,\n",
              " 'gmtOffSetMilliseconds': '-14400000',\n",
              " 'quoteType': 'EQUITY',\n",
              " 'symbol': 'MSFT',\n",
              " 'messageBoardId': 'finmb_21835',\n",
              " 'market': 'us_market',\n",
              " 'annualHoldingsTurnover': None,\n",
              " 'enterpriseToRevenue': 9.296,\n",
              " 'beta3Year': None,\n",
              " 'enterpriseToEbitda': 18.81,\n",
              " '52WeekChange': -0.31623542,\n",
              " 'morningStarRiskRating': None,\n",
              " 'forwardEps': 11.35,\n",
              " 'revenueQuarterlyGrowth': None,\n",
              " 'sharesOutstanding': 7457889792,\n",
              " 'fundInceptionDate': None,\n",
              " 'annualReportExpenseRatio': None,\n",
              " 'totalAssets': None,\n",
              " 'bookValue': 22.313,\n",
              " 'sharesShort': 38213792,\n",
              " 'sharesPercentSharesOut': 0.0050999997,\n",
              " 'fundFamily': None,\n",
              " 'lastFiscalYearEnd': 1656547200,\n",
              " 'heldPercentInstitutions': 0.71759003,\n",
              " 'netIncomeToCommon': 72737996800,\n",
              " 'trailingEps': 9.65,\n",
              " 'lastDividendValue': 0.62,\n",
              " 'SandP52WeekChange': -0.173293,\n",
              " 'priceToBook': 10.56865,\n",
              " 'heldPercentInsiders': 0.00079,\n",
              " 'nextFiscalYearEnd': 1719705600,\n",
              " 'yield': None,\n",
              " 'mostRecentQuarter': 1656547200,\n",
              " 'shortRatio': 1.28,\n",
              " 'sharesShortPreviousMonthDate': 1663200000,\n",
              " 'floatShares': 7451105190,\n",
              " 'beta': 0.960206,\n",
              " 'enterpriseValue': 1843046121472,\n",
              " 'priceHint': 2,\n",
              " 'threeYearAverageReturn': None,\n",
              " 'lastSplitDate': 1045526400,\n",
              " 'lastSplitFactor': '2:1',\n",
              " 'legalType': None,\n",
              " 'lastDividendDate': 1660694400,\n",
              " 'morningStarOverallRating': None,\n",
              " 'earningsQuarterlyGrowth': 0.017,\n",
              " 'priceToSalesTrailing12Months': 8.870263,\n",
              " 'dateShortInterest': 1665705600,\n",
              " 'pegRatio': 1.8,\n",
              " 'ytdReturn': None,\n",
              " 'forwardPE': 20.776941,\n",
              " 'lastCapGain': None,\n",
              " 'shortPercentOfFloat': 0.0050999997,\n",
              " 'sharesShortPriorMonth': 42967330,\n",
              " 'impliedSharesOutstanding': 0,\n",
              " 'category': None,\n",
              " 'fiveYearAverageReturn': None,\n",
              " 'previousClose': 226.75,\n",
              " 'regularMarketOpen': 226.24,\n",
              " 'twoHundredDayAverage': 273.25806,\n",
              " 'trailingAnnualDividendYield': 0.010937155,\n",
              " 'payoutRatio': 0.2508,\n",
              " 'volume24Hr': None,\n",
              " 'regularMarketDayHigh': 236.235,\n",
              " 'navPrice': None,\n",
              " 'averageDailyVolume10Day': 33531110,\n",
              " 'regularMarketPreviousClose': 226.75,\n",
              " 'fiftyDayAverage': 249.0928,\n",
              " 'trailingAnnualDividendRate': 2.48,\n",
              " 'open': 226.24,\n",
              " 'toCurrency': None,\n",
              " 'averageVolume10days': 33531110,\n",
              " 'expireDate': None,\n",
              " 'algorithm': None,\n",
              " 'dividendRate': 2.72,\n",
              " 'exDividendDate': 1668556800,\n",
              " 'circulatingSupply': None,\n",
              " 'startDate': None,\n",
              " 'regularMarketDayLow': 226.06,\n",
              " 'currency': 'USD',\n",
              " 'trailingPE': 24.43713,\n",
              " 'regularMarketVolume': 29424933,\n",
              " 'lastMarket': None,\n",
              " 'maxSupply': None,\n",
              " 'openInterest': None,\n",
              " 'marketCap': 1758706925568,\n",
              " 'volumeAllCurrencies': None,\n",
              " 'strikePrice': None,\n",
              " 'averageVolume': 26357446,\n",
              " 'dayLow': 226.06,\n",
              " 'ask': 235.69,\n",
              " 'askSize': 1200,\n",
              " 'volume': 29424933,\n",
              " 'fiftyTwoWeekHigh': 349.67,\n",
              " 'fromCurrency': None,\n",
              " 'fiveYearAvgDividendYield': 1.2,\n",
              " 'fiftyTwoWeekLow': 219.13,\n",
              " 'bid': 235.68,\n",
              " 'tradeable': False,\n",
              " 'dividendYield': 0.0109,\n",
              " 'bidSize': 1200,\n",
              " 'dayHigh': 236.235,\n",
              " 'coinMarketCapLink': None,\n",
              " 'regularMarketPrice': 235.8183,\n",
              " 'preMarketPrice': 226.01,\n",
              " 'logo_url': 'https://logo.clearbit.com/microsoft.com'}"
            ]
          },
          "metadata": {},
          "execution_count": 4
        }
      ],
      "source": [
        "import yfinance as yf\n",
        "msft = yf.Ticker(\"MSFT\")\n",
        "msft.info"
      ]
    },
    {
      "cell_type": "markdown",
      "metadata": {
        "id": "mKghHeMnuupg"
      },
      "source": [
        "# Descripcion del proyecto\n",
        "\n",
        "Vamos utilizar Python para descargar datos financieros de bases de datos gratuitas en línea, manipular los datos descargados y luego crear algunos indicadores técnicos básicos que luego se utilizarán como base de nuestra estrategia cuantitativa. Para ello, vamos a utilizar uno de los paquetes de Python más potentes y utilizados para la manipulación de datos, pandas.\n",
        "\n",
        "\n",
        "Utilizando como referencia la documentaciones oficiales:\n",
        "\n",
        "Pandas: https://pandas.pydata.org/docs/getting_started/intro_tutorials/01_table_oriented.html\n",
        "NumPy: https://numpy.org/doc/stable/user/absolute_beginners.html\n",
        "\n",
        "\n",
        "Preguntas:\n",
        "\n",
        "1. Cual es el crecimiento revenueGrowth ?\n",
        "2. Cual es la ganancia neta grossProfits? "
      ]
    },
    {
      "cell_type": "code",
      "execution_count": 5,
      "metadata": {
        "id": "sxp-9Ufvuupj",
        "outputId": "bf245fcd-76af-4af1-d580-e40042dc3e43",
        "colab": {
          "base_uri": "https://localhost:8080/"
        }
      },
      "outputs": [
        {
          "output_type": "stream",
          "name": "stdout",
          "text": [
            "            Date    Open    High     Low  Close* Adj Close**     Volume\n",
            "0   Oct 28, 2022  148.20  157.50  147.83  155.70      155.70  134717817\n",
            "1   Oct 27, 2022  148.07  149.05  144.13  144.80      144.80  108284100\n",
            "2   Oct 26, 2022  150.96  151.99  148.04  149.35      149.35   88194300\n",
            "3   Oct 25, 2022  150.09  152.49  149.36  152.34      152.34   74732300\n",
            "4   Oct 24, 2022  147.19  150.23  146.00  149.45      149.45   75981900\n",
            "..           ...     ...     ...     ...     ...         ...        ...\n",
            "95  Jun 15, 2022  134.29  137.34  132.16  135.43      135.24   91533000\n",
            "96  Jun 14, 2022  133.13  133.89  131.48  132.76      132.58   84784300\n",
            "97  Jun 13, 2022  132.87  135.20  131.44  131.88      131.70  122207100\n",
            "98  Jun 10, 2022  140.28  140.76  137.06  137.13      136.94   91437900\n",
            "99  Jun 09, 2022  147.08  147.95  142.53  142.64      142.44   69473000\n",
            "\n",
            "[99 rows x 7 columns]\n"
          ]
        }
      ],
      "source": [
        "import pandas as pd\n",
        "import requests\n",
        "import numpy as np\n",
        "\n",
        "ticker = \"AAPL\"\n",
        "\n",
        "\n",
        "def getdata(url):\n",
        "  r = requests.get(url,headers ={'User-Agent':'Mozilla/5.0 (Windows NT 10.0; Win64; x64) AppleWebKit/537.36 (KHTML, like Gecko) Chrome/91.0.4472.124 Safari/537.36'})\n",
        "  data = pd.read_html(r.text)\n",
        "  return data\n",
        "\n",
        "summary_url = f'https://finance.yahoo.com/quote/{ticker}?p={ticker}'\n",
        "summary_data = getdata(summary_url)\n",
        "\n",
        "\n",
        "data = [summary_data[0], summary_data[1]]\n",
        "data = pd.concat(summary_data)\n",
        "data.reset_index(drop=True, inplace=True)\n",
        "\n",
        "df = data.transpose()\n",
        "df.columns = df.iloc[0]\n",
        "df = df.drop(0)\n",
        "df = df.reset_index(drop=True)\n",
        "\n",
        "historiscal_url= f'https://finance.yahoo.com/quote/{ticker}/history?p={ticker}'\n",
        "historiscal_data = getdata(historiscal_url)\n",
        "data = historiscal_data[0]\n",
        "\n",
        "data = data.iloc[:-1 , :]\n",
        "\n",
        "data = data[data[\"Open\"].str.contains(\"Dividend\") == False]\n",
        "\n",
        "print(data)"
      ]
    },
    {
      "cell_type": "code",
      "execution_count": 6,
      "metadata": {
        "id": "yFpid8yAuupl",
        "colab": {
          "base_uri": "https://localhost:8080/"
        },
        "outputId": "c0f2d1ae-b6c8-427f-87c6-3ddc90b38a1f"
      },
      "outputs": [
        {
          "output_type": "stream",
          "name": "stdout",
          "text": [
            "El crecimiento de Microsoft es de: 0.124\n",
            "La ganancia neta de microsoft es de: 135620000000\n"
          ]
        }
      ],
      "source": [
        "import pandas as pd\n",
        "import requests\n",
        "import numpy as np\n",
        "import yfinance as yf\n",
        "\n",
        "ticker = \"MSFT\"\n",
        "microsoft= yf.Ticker(ticker)\n",
        "data=microsoft.info\n",
        "\n",
        "resultados=pd.Series(data.values(),data.keys())\n",
        "print(\"El crecimiento de Microsoft es de: \" + str(resultados[\"revenueGrowth\"]))\n",
        "print(\"La ganancia neta de microsoft es de: \" + str(resultados[\"grossProfits\"]))\n",
        "\n"
      ]
    }
  ],
  "metadata": {
    "kernelspec": {
      "display_name": "Python 3.10.7 64-bit",
      "language": "python",
      "name": "python3"
    },
    "language_info": {
      "codemirror_mode": {
        "name": "ipython",
        "version": 3
      },
      "file_extension": ".py",
      "mimetype": "text/x-python",
      "name": "python",
      "nbconvert_exporter": "python",
      "pygments_lexer": "ipython3",
      "version": "3.10.7"
    },
    "orig_nbformat": 4,
    "vscode": {
      "interpreter": {
        "hash": "f0ee762d84ddad7086513e3826a35260320b545ff56322a682f2835eb942653a"
      }
    },
    "colab": {
      "provenance": []
    }
  },
  "nbformat": 4,
  "nbformat_minor": 0
}