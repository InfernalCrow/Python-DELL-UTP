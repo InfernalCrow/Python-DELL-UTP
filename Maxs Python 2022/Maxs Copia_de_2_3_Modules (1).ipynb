{
  "cells": [
    {
      "cell_type": "markdown",
      "metadata": {
        "id": "KuTNuBixuuAB"
      },
      "source": [
        "![Data Science Black@300x.png](https://i.imgur.com/KIHm5UF.png)"
      ]
    },
    {
      "cell_type": "markdown",
      "metadata": {
        "id": "gS9JoaOKuuAL"
      },
      "source": [
        "Desde el primer momento, hemos estado utilizando una serie de funciones de Python, tales como las de la biblioteca (library) matemática math. Estas funciones matemáticas y otras muchas están distribuidas en módulos que se consideran estándar. Para utilizar estas funciones definidas en módulos se ha seguido el procedimiento que consiste en importar el módulo. De esta forma, estas funciones u otros objetos definidos en el módulo pasan a partir de ese momento a estar disponibles para su uso en nuestro programa o guion. Estos objetos pueden ser desde valores constantes como math.pi a funciones como math.cos()."
      ]
    },
    {
      "cell_type": "code",
      "execution_count": null,
      "metadata": {
        "id": "RzDPdkgnuuAM",
        "outputId": "6738282d-911b-44cf-f874-7c55d36a4141"
      },
      "outputs": [
        {
          "name": "stdout",
          "output_type": "stream",
          "text": [
            "cos(Pi) = -1.0\n"
          ]
        }
      ],
      "source": [
        "import math\n",
        "\n",
        "print('cos(Pi) = {}'.format(math.cos(math.pi)))"
      ]
    },
    {
      "cell_type": "markdown",
      "metadata": {
        "id": "AVWPKDy0uuAO"
      },
      "source": [
        "# Importación de un módulo\n",
        "\n",
        "Las formas recomendadas de importar un módulo son las siguientes:"
      ]
    },
    {
      "cell_type": "code",
      "execution_count": null,
      "metadata": {
        "id": "AmYvRTmcuuAQ"
      },
      "outputs": [],
      "source": [
        "import nombre_modulo1 "
      ]
    },
    {
      "cell_type": "markdown",
      "metadata": {
        "id": "T-FsuluhuuAQ"
      },
      "source": [
        "En esta segunda variante se especifica un alias, nom en el ejemplo, lo que permitiría utilizar nom. como alias del nombre del módulo."
      ]
    },
    {
      "cell_type": "code",
      "execution_count": null,
      "metadata": {
        "id": "TJ1Vwa3quuAR"
      },
      "outputs": [],
      "source": [
        "import nombre_modulo2 as nom"
      ]
    },
    {
      "cell_type": "markdown",
      "metadata": {
        "id": "xvBQMtOfuuAS"
      },
      "source": [
        "En la siguiente figura se muestra un ejemplo artificial para ver cómo el correcto uso de los espacios de nombres permite no contaminarlos.\n",
        "\n",
        "Existen dos módulos, Modulo_A y Modulo_B, que contienen una función con el mismo identificador, ident(). La función ident() podría hacer exactamente lo mismo, tareas similares pero con alguna diferencia o, directamente, no tener nada que ver la una con la otra respecto a su cometido.\n",
        "\n",
        "![module2](https://www2.eii.uva.es/fund_inf/python/_images/importar.jpg)"
      ]
    },
    {
      "cell_type": "code",
      "execution_count": null,
      "metadata": {
        "id": "pG5CyeXouuAU"
      },
      "outputs": [],
      "source": [
        "import Modulo_A\n",
        "import Modulo_B\n",
        "\n",
        "print('Módulo A llama a módulo B')\n",
        "Modulo_A.ident()\n",
        "\n",
        "print('Se llama a módulo B a través de A')\n",
        "Modulo_A.B.ident()\n",
        "\n",
        "print('Se llama a módulo B directamente')\n",
        "Modulo_B.ident()"
      ]
    },
    {
      "cell_type": "code",
      "execution_count": null,
      "metadata": {
        "id": "mLqq5Kf-uuAU"
      },
      "outputs": [],
      "source": [
        "from Modulo_A import *\n",
        "from Modulo_B import *\n",
        "\n",
        "ident()"
      ]
    },
    {
      "cell_type": "markdown",
      "metadata": {
        "id": "F0Sbfx2WuuAV"
      },
      "source": [
        "# Taller\n",
        "\n",
        "Crear funciones en Modulos y importarlas en el programa principal que resuelva suma de 2 listas:"
      ]
    },
    {
      "cell_type": "code",
      "execution_count": null,
      "metadata": {
        "id": "uaQuGohzuuAV",
        "outputId": "e98de5cf-5965-4805-b581-a19503ab5641",
        "colab": {
          "base_uri": "https://localhost:8080/"
        }
      },
      "outputs": [
        {
          "output_type": "execute_result",
          "data": {
            "text/plain": [
              "21"
            ]
          },
          "metadata": {},
          "execution_count": 3
        }
      ],
      "source": [
        "from modulo import *\n",
        "A = [1,2,3]\n",
        "B = [4,5,6]\n",
        "\n",
        "sumar_listas(A, B)\n"
      ]
    }
  ],
  "metadata": {
    "kernelspec": {
      "display_name": "Python 3.10.7 64-bit",
      "language": "python",
      "name": "python3"
    },
    "language_info": {
      "codemirror_mode": {
        "name": "ipython",
        "version": 3
      },
      "file_extension": ".py",
      "mimetype": "text/x-python",
      "name": "python",
      "nbconvert_exporter": "python",
      "pygments_lexer": "ipython3",
      "version": "3.10.7"
    },
    "orig_nbformat": 4,
    "vscode": {
      "interpreter": {
        "hash": "f0ee762d84ddad7086513e3826a35260320b545ff56322a682f2835eb942653a"
      }
    },
    "colab": {
      "provenance": []
    }
  },
  "nbformat": 4,
  "nbformat_minor": 0
}