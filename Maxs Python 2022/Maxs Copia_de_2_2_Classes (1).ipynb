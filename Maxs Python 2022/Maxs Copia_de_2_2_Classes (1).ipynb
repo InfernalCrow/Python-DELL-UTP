{
  "cells": [
    {
      "cell_type": "markdown",
      "metadata": {
        "id": "WDilrRr6bkBg"
      },
      "source": [
        "![Data Science Black@300x.png](https://i.imgur.com/KIHm5UF.png)"
      ]
    },
    {
      "cell_type": "markdown",
      "metadata": {
        "id": "fH4jW8YFroxX",
        "tags": []
      },
      "source": [
        "\n",
        "# CLASES\n",
        "\n",
        "Las clases proveen una forma de empaquetar datos y funcionalidad juntos. Al crear una nueva clase, se crea un nuevo tipo de objeto, permitiendo crear nuevas instancias de ese tipo. Cada instancia de clase puede tener atributos adjuntos para mantener su estado. Las instancias de clase también pueden tener métodos (definidos por su clase) para modificar su estado.\n"
      ]
    },
    {
      "cell_type": "markdown",
      "metadata": {
        "id": "p5gKOZuEbkBk"
      },
      "source": [
        "# Create a Class\n",
        "\n",
        "To create a class, use the keyword class:"
      ]
    },
    {
      "cell_type": "code",
      "execution_count": null,
      "metadata": {
        "id": "rqjoxIZHbkBl"
      },
      "outputs": [],
      "source": [
        "class MyClass:\n",
        "  x = 5"
      ]
    },
    {
      "cell_type": "markdown",
      "metadata": {
        "id": "3sIZ2qAEbkBp"
      },
      "source": [
        "# Create Object\n",
        "\n",
        "Now we can use the class named MyClass to create objects:"
      ]
    },
    {
      "cell_type": "code",
      "execution_count": null,
      "metadata": {
        "id": "zoOcVOYgbkBq"
      },
      "outputs": [],
      "source": [
        "p1 = MyClass()\n",
        "print(p1.x) "
      ]
    },
    {
      "cell_type": "markdown",
      "metadata": {
        "id": "VPCDjXZabkBs"
      },
      "source": [
        "# The __init__() Function\n",
        "\n",
        "The examples above are classes and objects in their simplest form, and are not really useful in real life applications.\n",
        "\n",
        "To understand the meaning of classes we have to understand the built-in __init__() function.\n",
        "\n",
        "All classes have a function called __init__(), which is always executed when the class is being initiated.\n",
        "\n",
        "Use the __init__() function to assign values to object properties, or other operations that are necessary to do when the object is being created:"
      ]
    },
    {
      "cell_type": "code",
      "execution_count": null,
      "metadata": {
        "id": "aAjSt4EPbkBt",
        "outputId": "304aaa40-c548-4c7d-fd9f-00ddc2d8bd74"
      },
      "outputs": [
        {
          "name": "stdout",
          "output_type": "stream",
          "text": [
            "John\n",
            "36\n"
          ]
        }
      ],
      "source": [
        "class Person:\n",
        "  def __init__(self, name, age):\n",
        "    self.name = name\n",
        "    self.age = age\n",
        "\n",
        "p1 = Person(\"John\", 36)\n",
        "\n",
        "print(p1.name)\n",
        "print(p1.age) "
      ]
    },
    {
      "cell_type": "markdown",
      "metadata": {
        "id": "Jgj5U7uLbkBw"
      },
      "source": [
        "# Object Methods\n",
        "\n",
        "Objects can also contain methods. Methods in objects are functions that belong to the object.\n",
        "\n",
        "Let us create a method in the Person class:\n",
        "\n",
        "Insert a function that prints a greeting, and execute it on the p1 object:"
      ]
    },
    {
      "cell_type": "code",
      "execution_count": null,
      "metadata": {
        "id": "DkZBOdO0bkBx",
        "outputId": "959352a0-1a0a-4da4-f798-adefe4b7537f"
      },
      "outputs": [
        {
          "name": "stdout",
          "output_type": "stream",
          "text": [
            "Hello my name is John\n"
          ]
        }
      ],
      "source": [
        "class Person:\n",
        "  def __init__(self, name, age):\n",
        "    self.name = name\n",
        "    self.age = age\n",
        "\n",
        "  def myfunc(self):\n",
        "    print(\"Hello my name is \" + self.name)\n",
        "\n",
        "p1 = Person(\"John\", 36)\n",
        "p1.myfunc() "
      ]
    },
    {
      "cell_type": "markdown",
      "metadata": {
        "id": "_1XFJ954bkBz"
      },
      "source": [
        "# Taller\n",
        "\n",
        "Write a Python class named Student with two attributes student_name, marks. Modify the attribute values of the said class and print the original and modified values of the said attributes.\n"
      ]
    },
    {
      "cell_type": "code",
      "execution_count": null,
      "metadata": {
        "id": "JeFadh13bkB0",
        "outputId": "a8619a46-2963-41d1-e046-05137d5b19ec",
        "colab": {
          "base_uri": "https://localhost:8080/"
        }
      },
      "outputs": [
        {
          "output_type": "stream",
          "name": "stdout",
          "text": [
            "Escribe el nuevo nombre: Mario Herrera\n",
            "Escribe la nueva calificacion: 90\n",
            "El nombre del estudiante es: Pedro Sanchez\n",
            "La calificacion del estudiante es: 93\n",
            "El nuevo nombre del estudiante es: Mario Herrera\n",
            "La nueva calificacion del estudiante es: 90\n"
          ]
        }
      ],
      "source": [
        "class Estudiante:\n",
        "  def __init__(self, nombre_estudiante, calificacion):\n",
        "    self.nombre_estudiante = \"Pedro Sanchez\"\n",
        "    self.calificacion = 93\n",
        "    print(\"El nombre del estudiante es: \" + self.nombre_estudiante)\n",
        "    print(\"La calificacion del estudiante es: \" + str(self.calificacion))\n",
        "\n",
        "  def notas(self):\n",
        "    self.nombre_estudiante = nombre_estudiante\n",
        "    self.calificacion = calificacion\n",
        "    print(\"El nuevo nombre del estudiante es: \" + self.nombre_estudiante)\n",
        "    print(\"La nueva calificacion del estudiante es: \" + str(self.calificacion))\n",
        "\n",
        "\n",
        "\n",
        "nombre_estudiante=input(\"Escribe el nuevo nombre: \")\n",
        "calificacion=int(input(\"Escribe la nueva calificacion: \"))\n",
        "alumno = Estudiante(nombre_estudiante, calificacion)\n",
        "alumno.notas()\n"
      ]
    }
  ],
  "metadata": {
    "kernelspec": {
      "display_name": "Python 3.10.7 64-bit",
      "language": "python",
      "name": "python3"
    },
    "language_info": {
      "codemirror_mode": {
        "name": "ipython",
        "version": 3
      },
      "file_extension": ".py",
      "mimetype": "text/x-python",
      "name": "python",
      "nbconvert_exporter": "python",
      "pygments_lexer": "ipython3",
      "version": "3.10.7"
    },
    "orig_nbformat": 4,
    "vscode": {
      "interpreter": {
        "hash": "f0ee762d84ddad7086513e3826a35260320b545ff56322a682f2835eb942653a"
      }
    },
    "colab": {
      "provenance": [],
      "collapsed_sections": []
    }
  },
  "nbformat": 4,
  "nbformat_minor": 0
}