{
  "cells": [
    {
      "cell_type": "markdown",
      "metadata": {
        "id": "2i8uy7mlQWqg"
      },
      "source": [
        "![Data Science Black@300x.png](https://i.imgur.com/KIHm5UF.png)\n",
        "\n",
        "# Funciones en Python\n",
        "\n",
        "Una función es un objeto de Python que puedes \"llamar\" para realizar una acción o calcular y devolver otro objeto. Se llama a una función colocando paréntesis a la derecha del nombre de la función. Algunas funciones permiten pasar argumentos dentro de los paréntesis (separando varios argumentos con una coma). Internamente a la función, estos argumentos son tratados como variables.\n",
        "\n"
      ]
    },
    {
      "cell_type": "markdown",
      "metadata": {
        "id": "XegzbZuHQ2EA"
      },
      "source": [
        "Para hacer una funcion utilizamos la palabra **def** que viene del ingles *definition* y se utiliza en Python para reutilizar partes del código llamando su ejecución:"
      ]
    },
    {
      "cell_type": "markdown",
      "metadata": {
        "id": "LD6Qh03oScuK"
      },
      "source": [
        "![function](https://i.imgur.com/FwdhGTVm.png)"
      ]
    },
    {
      "cell_type": "code",
      "execution_count": null,
      "metadata": {
        "colab": {
          "base_uri": "https://localhost:8080/"
        },
        "id": "FD-R8ssJQ1U2",
        "outputId": "bc858313-2c5d-41a6-de35-d7b0be7ebf04"
      },
      "outputs": [
        {
          "name": "stdout",
          "output_type": "stream",
          "text": [
            "Area de radio 5: 78.54\n",
            "Area de radio 50: 7853.79\n",
            "Area de radio 500: 785379.0\n"
          ]
        }
      ],
      "source": [
        "def circle_area(radius):              # Definimos la funcion circle_area con el parametro radius\n",
        "    return 3.141516 * (radius ** 2)   # Retornamos el calculo del area\n",
        "\n",
        "print(\"Area de radio 5:\",  circle_area(5))              # llamamos la funcion pasando el argumento y imprimimos el valor\n",
        "print(\"Area de radio 50:\", circle_area(50))\n",
        "print(\"Area de radio 500:\",  circle_area(500))"
      ]
    },
    {
      "cell_type": "markdown",
      "metadata": {
        "deletable": true,
        "editable": true,
        "id": "HhNF_B6aZXYH"
      },
      "source": [
        "## Funciones incorporadas de Python \n",
        "\n",
        "Algunas funciones permiten pasar **argumentos** dentro de los paréntesis (separando varios argumentos con una coma). Internamente a la función, estos argumentos son tratados como variables.\n",
        "\n",
        "Python tiene varias funciones incorporadas muy útiles para ayudarte a trabajar con diferentes objetos y/o tu entorno. Aquí hay una pequeña muestra de ellas:\n",
        "\n",
        "- **`type(obj)`** para determinar el tipo de un objeto\n",
        "- **`len(container)`** para determinar cuántos elementos hay en un contenedor\n",
        "- **`callable(obj)`** para determinar si un objeto es llamable\n",
        "- **`sorted(container)`** para devolver una nueva lista de un contenedor, con los elementos ordenados\n",
        "- **`suma(contenedor)`** para calcular la suma de un contenedor de números\n",
        "- **`min(contenedor)`** para determinar el elemento más pequeño de un contenedor\n",
        "- **`max(contenedor)`** para determinar el elemento más grande de un contenedor\n",
        "- **`abs(número)`** para determinar el valor absoluto de un número\n",
        "- **`repr(obj)`** para devolver una representación de cadena de un objeto\n",
        "\n",
        "> Lista completa de funciones incorporadas: https://docs.python.org/3/library/functions.html\n",
        "\n",
        "También hay diferentes formas de definir tus propias funciones y objetos invocables que exploraremos más adelante."
      ]
    },
    {
      "cell_type": "code",
      "execution_count": null,
      "metadata": {
        "id": "Pu5QRgFpV32v"
      },
      "outputs": [],
      "source": [
        "simple_string1 = 'Hello World'\n",
        "simple_string2 = 'Hola Mundo'\n",
        "list1 = [3, 5, 6, 3, 'dog', 'cat', False]\n",
        "tuple1 = (3, 5, 6, 3, 'dog', 'cat', False)\n",
        "set1 = {3, 5, 6, 3, 'dog', 'cat', False}\n",
        "dict1 = {'name': 'Jane', 'age': 23, 'fav_foods': ['pizza', 'fruit', 'fish']}"
      ]
    },
    {
      "cell_type": "code",
      "execution_count": null,
      "metadata": {
        "deletable": true,
        "editable": true,
        "id": "5AUfabkmZXYI",
        "outputId": "4be96fef-6de6-4139-d624-9542fae224b4"
      },
      "outputs": [
        {
          "data": {
            "text/plain": [
              "str"
            ]
          },
          "metadata": {},
          "output_type": "display_data"
        }
      ],
      "source": [
        "# Use the type() function to determine the type of an object\n",
        "type(simple_string1)"
      ]
    },
    {
      "cell_type": "code",
      "execution_count": null,
      "metadata": {
        "colab": {
          "base_uri": "https://localhost:8080/"
        },
        "deletable": true,
        "editable": true,
        "id": "_i3XkdJqZXYI",
        "outputId": "be89749c-3a7f-41f6-e908-8f286b460ae6"
      },
      "outputs": [
        {
          "data": {
            "text/plain": [
              "3"
            ]
          },
          "metadata": {},
          "output_type": "display_data"
        }
      ],
      "source": [
        "# Use the len() function to determine how many items are in a container\n",
        "len(dict1)"
      ]
    },
    {
      "cell_type": "code",
      "execution_count": null,
      "metadata": {
        "deletable": true,
        "editable": true,
        "id": "GhGrjn0YZXYI",
        "outputId": "8f7a09c1-b3a9-48dc-a92c-6f9b721b7bdd",
        "colab": {
          "base_uri": "https://localhost:8080/"
        }
      },
      "outputs": [
        {
          "output_type": "execute_result",
          "data": {
            "text/plain": [
              "14"
            ]
          },
          "metadata": {},
          "execution_count": 29
        }
      ],
      "source": [
        "# Use the len() function to determine how many items are in a container\n",
        "len(\"simple_string2\")"
      ]
    },
    {
      "cell_type": "code",
      "execution_count": null,
      "metadata": {
        "colab": {
          "base_uri": "https://localhost:8080/"
        },
        "deletable": true,
        "editable": true,
        "id": "XlmlBbD2ZXYI",
        "outputId": "6bca9d61-8dfb-489c-8f19-064dfaf320e0"
      },
      "outputs": [
        {
          "data": {
            "text/plain": [
              "True"
            ]
          },
          "metadata": {},
          "output_type": "display_data"
        }
      ],
      "source": [
        "# Use the callable() function to determine if an object is callable\n",
        "callable(len)"
      ]
    },
    {
      "cell_type": "code",
      "execution_count": null,
      "metadata": {
        "deletable": true,
        "editable": true,
        "id": "Jrnbd2NQZXYJ",
        "outputId": "f2118887-cc53-4bd5-cc0f-a36b2002cd2f"
      },
      "outputs": [
        {
          "data": {
            "text/plain": [
              "False"
            ]
          },
          "metadata": {},
          "output_type": "display_data"
        }
      ],
      "source": [
        "# Use the callable() function to determine if an object is callable\n",
        "callable(dict1)"
      ]
    },
    {
      "cell_type": "code",
      "execution_count": null,
      "metadata": {
        "deletable": true,
        "editable": true,
        "id": "ewoKZytHZXYJ",
        "outputId": "7fca41fe-b14a-42ed-9d57-d6e49878bdc5"
      },
      "outputs": [
        {
          "data": {
            "text/plain": [
              "[-3, 1, 2, 3.6, 5, 7, 10]"
            ]
          },
          "metadata": {},
          "output_type": "display_data"
        }
      ],
      "source": [
        "# Use the sorted() function to return a new list from a container, with the items sorted\n",
        "sorted([10, 1, 3.6, 7, 5, 2, -3])"
      ]
    },
    {
      "cell_type": "code",
      "execution_count": null,
      "metadata": {
        "deletable": true,
        "editable": true,
        "id": "QjdkZImkZXYJ",
        "outputId": "d4594756-d84e-4d4e-a04e-40fa322861c4"
      },
      "outputs": [
        {
          "data": {
            "text/plain": [
              "['California', 'Chicago', 'ants', 'cats', 'dogs', 'mice', 'zebras']"
            ]
          },
          "metadata": {},
          "output_type": "display_data"
        }
      ],
      "source": [
        "# Use the sorted() function to return a new list from a container, with the items sorted\n",
        "# - notice that capitalized strings come first\n",
        "sorted(['dogs', 'cats', 'zebras', 'Chicago', 'California', 'ants', 'mice'])"
      ]
    },
    {
      "cell_type": "code",
      "execution_count": null,
      "metadata": {
        "colab": {
          "base_uri": "https://localhost:8080/"
        },
        "deletable": true,
        "editable": true,
        "id": "BArcvNk4ZXYJ",
        "outputId": "d8934a95-9ea3-4d56-a092-b94d2f53c1c4"
      },
      "outputs": [
        {
          "data": {
            "text/plain": [
              "25.6"
            ]
          },
          "metadata": {},
          "output_type": "display_data"
        }
      ],
      "source": [
        "# Use the sum() function to compute the sum of a container of numbers\n",
        "sum([10, 1, 3.6, 7, 5, 2, -3])"
      ]
    },
    {
      "cell_type": "code",
      "execution_count": null,
      "metadata": {
        "colab": {
          "base_uri": "https://localhost:8080/"
        },
        "deletable": true,
        "editable": true,
        "id": "rae4f9aSZXYJ",
        "outputId": "dbd6ad73-d6ab-4b84-a0e5-e4438dbe4842"
      },
      "outputs": [
        {
          "data": {
            "text/plain": [
              "-3"
            ]
          },
          "metadata": {},
          "output_type": "display_data"
        }
      ],
      "source": [
        "# Use the min() function to determine the smallest item in a container\n",
        "min([10, 1, 3.6, 7, 5, 2, -3])"
      ]
    },
    {
      "cell_type": "code",
      "execution_count": null,
      "metadata": {
        "deletable": true,
        "editable": true,
        "id": "1YQnsGj6ZXYK",
        "outputId": "0d75efaf-eec0-4bb1-b240-653d8c2840f6"
      },
      "outputs": [
        {
          "data": {
            "text/plain": [
              "'a'"
            ]
          },
          "metadata": {},
          "output_type": "display_data"
        }
      ],
      "source": [
        "# Use the min() function to determine the smallest item in a container\n",
        "min(['g', 'z', 'a', 'y'])"
      ]
    },
    {
      "cell_type": "code",
      "execution_count": null,
      "metadata": {
        "deletable": true,
        "editable": true,
        "id": "QJ5F5W2AZXYK",
        "outputId": "3e2d7ef7-0de0-4de2-c9c9-fce6fb3f6835"
      },
      "outputs": [
        {
          "data": {
            "text/plain": [
              "10"
            ]
          },
          "metadata": {},
          "output_type": "display_data"
        }
      ],
      "source": [
        "# Use the max() function to determine the largest item in a container\n",
        "max([10, 1, 3.6, 7, 5, 2, -3])"
      ]
    },
    {
      "cell_type": "code",
      "execution_count": null,
      "metadata": {
        "deletable": true,
        "editable": true,
        "id": "AVN8fNcYZXYK",
        "outputId": "332094b6-2503-4786-876f-9045fbcf226e"
      },
      "outputs": [
        {
          "data": {
            "text/plain": [
              "'s'"
            ]
          },
          "metadata": {},
          "output_type": "display_data"
        }
      ],
      "source": [
        "# Use the max() function to determine the largest item in a container\n",
        "max('gibberish')"
      ]
    },
    {
      "cell_type": "code",
      "execution_count": null,
      "metadata": {
        "deletable": true,
        "editable": true,
        "id": "JCQfvclSZXYK",
        "outputId": "5803ad40-9390-4bde-dc80-0791855a4019"
      },
      "outputs": [
        {
          "data": {
            "text/plain": [
              "10"
            ]
          },
          "metadata": {},
          "output_type": "display_data"
        }
      ],
      "source": [
        "# Use the abs() function to determine the absolute value of a number\n",
        "abs(10)"
      ]
    },
    {
      "cell_type": "code",
      "execution_count": null,
      "metadata": {
        "deletable": true,
        "editable": true,
        "id": "zfMBYCpwZXYK",
        "outputId": "4db40338-e8ce-41e3-a7c4-af400ba1f84c"
      },
      "outputs": [
        {
          "data": {
            "text/plain": [
              "12"
            ]
          },
          "metadata": {},
          "output_type": "display_data"
        }
      ],
      "source": [
        "# Use the abs() function to determine the absolute value of a number\n",
        "abs(-12)"
      ]
    },
    {
      "cell_type": "code",
      "execution_count": null,
      "metadata": {
        "deletable": true,
        "editable": true,
        "id": "MEYIvfg-ZXYK",
        "outputId": "a97cd4e6-a860-4dc3-8a27-61a6dab3c127"
      },
      "outputs": [
        {
          "data": {
            "text/plain": [
              "\"{False, 3, 5, 6, 'dog', 'cat'}\""
            ]
          },
          "metadata": {},
          "output_type": "display_data"
        }
      ],
      "source": [
        "# Use the repr() function to return a string representation of an object\n",
        "repr(set1)"
      ]
    },
    {
      "cell_type": "markdown",
      "metadata": {
        "deletable": true,
        "editable": true,
        "id": "xrDFQDeqZXYL"
      },
      "source": [
        "## Atributos de los objetos de Python (métodos y propiedades)\n",
        "\n",
        "Los diferentes tipos de objetos en Python tienen diferentes **atributos** a los que se puede hacer referencia por su nombre (similar a una variable). Para acceder a un atributo de un objeto, utiliza un punto (`.`) después del objeto, y luego especifica el atributo (es decir, `obj.atributo`)\n",
        "\n",
        "Cuando un atributo de un objeto es invocable, ese atributo se llama **método**. Es lo mismo que una función, sólo que esta función está ligada a un objeto concreto.\n",
        "\n",
        "Cuando un atributo de un objeto no es invocable, ese atributo se llama **propiedad**. Es sólo un dato sobre el objeto, que es en sí mismo otro objeto.\n",
        "\n",
        "La función incorporada `dir()` puede utilizarse para devolver una lista de los atributos de un objeto.\n",
        "\n",
        "Por ejemplo para saber todo lo que podemos hacer con un cadena de texto podemos utilizar:\n",
        "<hr>"
      ]
    },
    {
      "cell_type": "code",
      "execution_count": null,
      "metadata": {
        "colab": {
          "base_uri": "https://localhost:8080/"
        },
        "id": "xews4ic6XCeh",
        "outputId": "80f3936b-5879-4bb2-e2c2-82d02d3b20d3"
      },
      "outputs": [
        {
          "data": {
            "text/plain": [
              "['__add__',\n",
              " '__class__',\n",
              " '__contains__',\n",
              " '__delattr__',\n",
              " '__dir__',\n",
              " '__doc__',\n",
              " '__eq__',\n",
              " '__format__',\n",
              " '__ge__',\n",
              " '__getattribute__',\n",
              " '__getitem__',\n",
              " '__getnewargs__',\n",
              " '__gt__',\n",
              " '__hash__',\n",
              " '__init__',\n",
              " '__init_subclass__',\n",
              " '__iter__',\n",
              " '__le__',\n",
              " '__len__',\n",
              " '__lt__',\n",
              " '__mod__',\n",
              " '__mul__',\n",
              " '__ne__',\n",
              " '__new__',\n",
              " '__reduce__',\n",
              " '__reduce_ex__',\n",
              " '__repr__',\n",
              " '__rmod__',\n",
              " '__rmul__',\n",
              " '__setattr__',\n",
              " '__sizeof__',\n",
              " '__str__',\n",
              " '__subclasshook__',\n",
              " 'capitalize',\n",
              " 'casefold',\n",
              " 'center',\n",
              " 'count',\n",
              " 'encode',\n",
              " 'endswith',\n",
              " 'expandtabs',\n",
              " 'find',\n",
              " 'format',\n",
              " 'format_map',\n",
              " 'index',\n",
              " 'isalnum',\n",
              " 'isalpha',\n",
              " 'isascii',\n",
              " 'isdecimal',\n",
              " 'isdigit',\n",
              " 'isidentifier',\n",
              " 'islower',\n",
              " 'isnumeric',\n",
              " 'isprintable',\n",
              " 'isspace',\n",
              " 'istitle',\n",
              " 'isupper',\n",
              " 'join',\n",
              " 'ljust',\n",
              " 'lower',\n",
              " 'lstrip',\n",
              " 'maketrans',\n",
              " 'partition',\n",
              " 'replace',\n",
              " 'rfind',\n",
              " 'rindex',\n",
              " 'rjust',\n",
              " 'rpartition',\n",
              " 'rsplit',\n",
              " 'rstrip',\n",
              " 'split',\n",
              " 'splitlines',\n",
              " 'startswith',\n",
              " 'strip',\n",
              " 'swapcase',\n",
              " 'title',\n",
              " 'translate',\n",
              " 'upper',\n",
              " 'zfill']"
            ]
          },
          "metadata": {},
          "output_type": "display_data"
        }
      ],
      "source": [
        "nombre = \"Elon\"\n",
        "dir(nombre) # Lista todos los metodos que podemos utilizar"
      ]
    },
    {
      "cell_type": "markdown",
      "metadata": {
        "deletable": true,
        "editable": true,
        "id": "ldUNcArXZXYL"
      },
      "source": [
        "## Algunos métodos sobre objetos de cadena\n",
        "\n",
        "- **`.capitalize()`** para devolver una versión en mayúsculas de la cadena (sólo el primer carácter en mayúscula)\n",
        "- **`.upper()`** para devolver una versión en mayúsculas de la cadena (todos los caracteres en mayúsculas)\n",
        "- **`.lower()`** para devolver una versión en minúsculas de la cadena (todos los caracteres en minúsculas)\n",
        "- **`.count(substring)`** para devolver el número de apariciones de la subcadena en la cadena\n",
        "- **`.startswith(substring)`** para determinar si la cadena comienza con la subcadena\n",
        "- **`.endswith(substring)`** para determinar si la cadena termina con la subcadena\n",
        "- **`.replace(old, new)`** para devolver una copia de la cadena con las ocurrencias de \"old\" reemplazadas por \"new\""
      ]
    },
    {
      "cell_type": "code",
      "execution_count": null,
      "metadata": {
        "deletable": true,
        "editable": true,
        "id": "vqVvTnQ0ZXYL"
      },
      "outputs": [],
      "source": [
        "# Assign a string to a variable\n",
        "a_string = 'tHis is a sTriNg'"
      ]
    },
    {
      "cell_type": "code",
      "execution_count": null,
      "metadata": {
        "deletable": true,
        "editable": true,
        "id": "wsg6P4gFZXYL",
        "outputId": "0fc2a1a3-cfa9-43e3-ca8e-2599e4d36149"
      },
      "outputs": [
        {
          "data": {
            "text/plain": [
              "'This is a string'"
            ]
          },
          "metadata": {},
          "output_type": "display_data"
        }
      ],
      "source": [
        "# Return a capitalized version of the string\n",
        "a_string.capitalize()"
      ]
    },
    {
      "cell_type": "code",
      "execution_count": null,
      "metadata": {
        "deletable": true,
        "editable": true,
        "id": "I1LOComsZXYL",
        "outputId": "560a2287-9ece-4b75-a1fb-b48e1efa0c34"
      },
      "outputs": [
        {
          "data": {
            "text/plain": [
              "'THIS IS A STRING'"
            ]
          },
          "metadata": {},
          "output_type": "display_data"
        }
      ],
      "source": [
        "# Return an uppercase version of the string\n",
        "a_string.upper()"
      ]
    },
    {
      "cell_type": "code",
      "execution_count": null,
      "metadata": {
        "deletable": true,
        "editable": true,
        "id": "ksjS_j2HZXYL",
        "outputId": "2a07bac5-ad26-4e0f-bc8f-22dceb73efb7"
      },
      "outputs": [
        {
          "data": {
            "text/plain": [
              "'this is a string'"
            ]
          },
          "metadata": {},
          "output_type": "display_data"
        }
      ],
      "source": [
        "# Return a lowercase version of the string\n",
        "a_string.lower()"
      ]
    },
    {
      "cell_type": "code",
      "execution_count": null,
      "metadata": {
        "deletable": true,
        "editable": true,
        "id": "1zEXwlsNZXYM",
        "outputId": "f6fe498f-4f0e-42c4-e3c2-f130a5d9bef5"
      },
      "outputs": [
        {
          "data": {
            "text/plain": [
              "'tHis is a sTriNg'"
            ]
          },
          "metadata": {},
          "output_type": "display_data"
        }
      ],
      "source": [
        "# Notice that the methods called have not actually modified the string\n",
        "a_string"
      ]
    },
    {
      "cell_type": "code",
      "execution_count": null,
      "metadata": {
        "deletable": true,
        "editable": true,
        "id": "9DIybecJZXYM",
        "outputId": "b49b82fb-66ff-4722-f312-491289475d19"
      },
      "outputs": [
        {
          "data": {
            "text/plain": [
              "3"
            ]
          },
          "metadata": {},
          "output_type": "display_data"
        }
      ],
      "source": [
        "# Count number of occurences of a substring in the string\n",
        "a_string.count('i')"
      ]
    },
    {
      "cell_type": "code",
      "execution_count": null,
      "metadata": {
        "deletable": true,
        "editable": true,
        "id": "-uoi01GgZXYM",
        "outputId": "37c4c9e4-c207-4433-c203-b28a1d626f62"
      },
      "outputs": [
        {
          "data": {
            "text/plain": [
              "1"
            ]
          },
          "metadata": {},
          "output_type": "display_data"
        }
      ],
      "source": [
        "# Count number of occurences of a substring in the string after a certain position\n",
        "a_string.count('i', 7)"
      ]
    },
    {
      "cell_type": "code",
      "execution_count": null,
      "metadata": {
        "deletable": true,
        "editable": true,
        "id": "0qEdNePtZXYM",
        "outputId": "9ddf20f0-bd80-4ee6-91a9-6882441975c8"
      },
      "outputs": [
        {
          "data": {
            "text/plain": [
              "2"
            ]
          },
          "metadata": {},
          "output_type": "display_data"
        }
      ],
      "source": [
        "# Count number of occurences of a substring in the string\n",
        "a_string.count('is')"
      ]
    },
    {
      "cell_type": "code",
      "execution_count": null,
      "metadata": {
        "deletable": true,
        "editable": true,
        "id": "mQTL1c93ZXYM",
        "outputId": "661e47af-8bfa-4b8b-f1ad-f52d9bfabb48"
      },
      "outputs": [
        {
          "data": {
            "text/plain": [
              "False"
            ]
          },
          "metadata": {},
          "output_type": "display_data"
        }
      ],
      "source": [
        "# Does the string start with 'this'?\n",
        "a_string.startswith('this')"
      ]
    },
    {
      "cell_type": "code",
      "execution_count": null,
      "metadata": {
        "deletable": true,
        "editable": true,
        "id": "1k-NY1W_ZXYM",
        "outputId": "428b9da4-5024-4132-8128-5e62bd4029d4"
      },
      "outputs": [
        {
          "data": {
            "text/plain": [
              "True"
            ]
          },
          "metadata": {},
          "output_type": "display_data"
        }
      ],
      "source": [
        "# Does the lowercase string start with 'this'?\n",
        "a_string.lower().startswith('this')"
      ]
    },
    {
      "cell_type": "code",
      "execution_count": null,
      "metadata": {
        "deletable": true,
        "editable": true,
        "id": "WGmMRQzaZXYM",
        "outputId": "4d7e699f-85fb-4382-9a94-c3aecd60d4c4"
      },
      "outputs": [
        {
          "data": {
            "text/plain": [
              "True"
            ]
          },
          "metadata": {},
          "output_type": "display_data"
        }
      ],
      "source": [
        "# Does the string end with 'Ng'?\n",
        "a_string.endswith('Ng')"
      ]
    },
    {
      "cell_type": "code",
      "execution_count": null,
      "metadata": {
        "deletable": true,
        "editable": true,
        "id": "SZKQBX5fZXYN",
        "outputId": "aabdc7a8-d57d-403e-f7be-e72828ef2322"
      },
      "outputs": [
        {
          "data": {
            "text/plain": [
              "'tHXYZ XYZ a sTriNg'"
            ]
          },
          "metadata": {},
          "output_type": "display_data"
        }
      ],
      "source": [
        "# Return a version of the string with a substring replaced with something else\n",
        "a_string.replace('is', 'XYZ')"
      ]
    },
    {
      "cell_type": "code",
      "execution_count": null,
      "metadata": {
        "deletable": true,
        "editable": true,
        "id": "kOT1C0b6ZXYN",
        "outputId": "332d7ca2-1517-4463-ce4e-328d7bb8f08a"
      },
      "outputs": [
        {
          "data": {
            "text/plain": [
              "'tH!s !s a sTr!Ng'"
            ]
          },
          "metadata": {},
          "output_type": "display_data"
        }
      ],
      "source": [
        "# Return a version of the string with a substring replaced with something else\n",
        "a_string.replace('i', '!')"
      ]
    },
    {
      "cell_type": "code",
      "execution_count": null,
      "metadata": {
        "deletable": true,
        "editable": true,
        "id": "Zr8L-zK6ZXYN",
        "outputId": "c2b56ec6-727a-4cca-ddcb-ec8683c117bf"
      },
      "outputs": [
        {
          "data": {
            "text/plain": [
              "'tH!s !s a sTriNg'"
            ]
          },
          "metadata": {},
          "output_type": "display_data"
        }
      ],
      "source": [
        "# Return a version of the string with the first 2 occurences a substring replaced with something else\n",
        "a_string.replace('i', '!', 2)"
      ]
    },
    {
      "cell_type": "markdown",
      "metadata": {
        "id": "FGqMU7K2YPQe"
      },
      "source": [
        "# Este programa pregunta por 5 números y te dice cual es el mas grande.\n"
      ]
    },
    {
      "cell_type": "markdown",
      "metadata": {
        "id": "ql6Mu1OEYa7K"
      },
      "source": [
        "# Primero definiremos 5 variables con la funcion input."
      ]
    },
    {
      "cell_type": "code",
      "execution_count": null,
      "metadata": {
        "colab": {
          "base_uri": "https://localhost:8080/"
        },
        "id": "m9DhibD7YaH1",
        "outputId": "c846d14f-cdfa-4fb7-e406-be820b2415ab"
      },
      "outputs": [
        {
          "name": "stdout",
          "output_type": "stream",
          "text": [
            "Ingresa un numero 1 1\n",
            "Ingresa un numero 2 2\n",
            "Ingresa un numero 3 3\n",
            "Ingresa un numero 4 4\n",
            "Ingresa un numero 5 5\n"
          ]
        }
      ],
      "source": [
        "45ç6\n",
        "a = int(input('Ingresa un numero 1 '))\n",
        "b = int(input('Ingresa un numero 2 '))\n",
        "c = int(input('Ingresa un numero 3 '))\n",
        "d = int(input('Ingresa un numero 4 '))\n",
        "f = int(input('Ingresa un numero 5 '))"
      ]
    },
    {
      "cell_type": "markdown",
      "metadata": {
        "id": "PxvoIdT1YaVY"
      },
      "source": [
        "# En este paso convertimos cada uno de los inputs en un Array con la funcion 'array' y asignamos esta lista a la variable numeros "
      ]
    },
    {
      "cell_type": "code",
      "execution_count": null,
      "metadata": {
        "id": "sTo7nlejZECU"
      },
      "outputs": [],
      "source": [
        "Numeros = [a,b,c,d,f]"
      ]
    },
    {
      "cell_type": "markdown",
      "metadata": {
        "id": "FWKJRBO2Zuee"
      },
      "source": [
        "# La funcion Max te permitira saber cual es el numero mas grande de la lista recien creada."
      ]
    },
    {
      "cell_type": "code",
      "execution_count": null,
      "metadata": {
        "colab": {
          "base_uri": "https://localhost:8080/"
        },
        "id": "KCEYtgUQaeIE",
        "outputId": "af2f401e-66a8-47c5-ead0-9adde5e1457f"
      },
      "outputs": [
        {
          "name": "stdout",
          "output_type": "stream",
          "text": [
            "94\n"
          ]
        }
      ],
      "source": [
        "print(max(Numeros))"
      ]
    },
    {
      "cell_type": "markdown",
      "metadata": {
        "id": "VuhJEqPGayF_"
      },
      "source": [
        "# .format\n",
        "\n",
        "El metodo **.format** me permite agregar un valor a un texto impreso por medio de {}"
      ]
    },
    {
      "cell_type": "code",
      "execution_count": null,
      "metadata": {
        "colab": {
          "base_uri": "https://localhost:8080/"
        },
        "id": "CcmOo4K3aj4c",
        "outputId": "267f8df9-29df-4626-856a-378533141065"
      },
      "outputs": [
        {
          "name": "stdout",
          "output_type": "stream",
          "text": [
            "El numero mas grande es 94\n",
            "El numero mas chico es 20\n"
          ]
        }
      ],
      "source": [
        "print('El numero mas grande es {}'.format(max(Numeros)))\n",
        "print('El numero mas chico es {}'.format(min(Numeros)))"
      ]
    },
    {
      "cell_type": "markdown",
      "metadata": {
        "id": "Q1nQnhm1Xt-f"
      },
      "source": [
        "Si queremos podemos utilizar **.format** para tambien dar formato a cierto tipo de numeros por ejemplo números con decimales:"
      ]
    },
    {
      "cell_type": "code",
      "execution_count": null,
      "metadata": {
        "colab": {
          "base_uri": "https://localhost:8080/"
        },
        "id": "N90IQXAWX6PS",
        "outputId": "1d2e97ed-6364-4938-d443-432c07f5e7b4"
      },
      "outputs": [
        {
          "name": "stdout",
          "output_type": "stream",
          "text": [
            "El numero pi es 3.14\n"
          ]
        }
      ],
      "source": [
        "print('El numero pi es {:.3}'.format(3.141516))  # Estamos dando instrucciones para que solo imprima 3 digitos"
      ]
    },
    {
      "cell_type": "markdown",
      "metadata": {
        "id": "jNqQlZ_XajCS"
      },
      "source": [
        "# Funciones y Condicionales\n",
        "\n",
        "La funcion Def indica el inicio del encabezado de funcion, esto nos permite llamar los parametros establecidos por medio de este encabezado.\n",
        "\n",
        "Los condicionales son funciones que retornan un valor predeterminado dependiendo de el cumplimiento de una condicion pre - establecida como por ejemplo 10 > 4.\n"
      ]
    },
    {
      "cell_type": "code",
      "execution_count": null,
      "metadata": {
        "colab": {
          "base_uri": "https://localhost:8080/"
        },
        "id": "cZwChrkGZ_pO",
        "outputId": "5bcbf838-c5ec-4b48-a002-1b239b84e9d1"
      },
      "outputs": [
        {
          "name": "stdout",
          "output_type": "stream",
          "text": [
            "--- Ahora probamos con i: 8\n",
            "Hellow World, x es < 10\n",
            "Result from HelloWorld: 8\n",
            "--- Ahora probamos con i: 13\n",
            "Hello World, x es >= 10 pero < 20\n",
            "Result from HelloWorld: 13\n",
            "--- Ahora probamos con i: 18\n",
            "Hello World, x es >= 10 pero < 20\n",
            "Result from HelloWorld: 18\n",
            "--- Ahora probamos con i: 23\n",
            "Hello World, x es > 20\n",
            "Result from HelloWorld: 23\n"
          ]
        }
      ],
      "source": [
        "def HelloWorldXY(x,y):\n",
        "    if (x < 10):\n",
        "        print(\"Hellow World, x es < 10\")\n",
        "    elif (x < 20):\n",
        "        print(\"Hello World, x es >= 10 pero < 20\")\n",
        "    else:\n",
        "        print(\"Hello World, x es > 20\")\n",
        "    return x + y\n",
        "for i in range(8, 25, 5): # i= 8, 13, 18, 23 (start, stop, step) \n",
        "    print(\"--- Ahora probamos con i: {}\".format(i))\n",
        "    r = HelloWorldXY(i,i)\n",
        "    print(\"Result from HelloWorld: {}\".format(i))"
      ]
    },
    {
      "cell_type": "raw",
      "metadata": {
        "id": "cZ1mAqF7k4Ms"
      },
      "source": []
    },
    {
      "cell_type": "markdown",
      "metadata": {
        "id": "UWT4erXxaQ1M"
      },
      "source": [
        "# Taller\n"
      ]
    },
    {
      "cell_type": "markdown",
      "metadata": {
        "id": "_AKbLXQ_aTUl"
      },
      "source": [
        "1. Escribe una función en Python para calcular el factorial de un número (un entero no negativo). La función acepta el número como argumento.\n",
        "\n",
        "La función factorial es una fórmula matemática representada por el signo de exclamación \"!\". En la fórmula Factorial se deben multiplicar todos los números enteros y positivos que hay entre el número que aparece en la fórmula y el número 1.\n",
        "\n",
        "Es muy fácil, aquí tienes un ejemplo:\n",
        "\n",
        "7! = 1 * 2 * 3 * 4 * 5 * 6 * 7 = 5040"
      ]
    },
    {
      "cell_type": "code",
      "execution_count": null,
      "metadata": {
        "id": "WlDpDOH6aSXl",
        "colab": {
          "base_uri": "https://localhost:8080/"
        },
        "outputId": "fd7a4c4d-eb94-41b2-ecc8-4f5b4014f3b9"
      },
      "outputs": [
        {
          "output_type": "stream",
          "name": "stdout",
          "text": [
            "escribe un numero 7\n",
            "el factorial del numero es: 5040\n"
          ]
        }
      ],
      "source": [
        "def factorial(numero):  \n",
        "    for i in range (1, numero):\n",
        "      numero = numero * i\n",
        "\n",
        "    print(\"el factorial del numero es: \" + str(numero))\n",
        "numero=int(input(\"escribe un numero \"))\n",
        "factorial(numero)\n",
        "\n",
        "import math\n",
        "def factorial(numero):  \n",
        "    print (math.factorial (numero))\n",
        "\n",
        "\n",
        "numero=int(input(\"escribe un numero \"))\n",
        "factorial(numero)\n"
      ]
    },
    {
      "cell_type": "markdown",
      "metadata": {
        "id": "TCa1ei-ualod"
      },
      "source": [
        "2. Escribe una función de Python para comprobar si un número cae en un rango dado.\n"
      ]
    },
    {
      "cell_type": "code",
      "execution_count": null,
      "metadata": {
        "id": "ARCMhDGcan89",
        "colab": {
          "base_uri": "https://localhost:8080/"
        },
        "outputId": "ea61897a-322c-416e-ae1d-7976d53dba19"
      },
      "outputs": [
        {
          "output_type": "stream",
          "name": "stdout",
          "text": [
            "ingresa un numero para saber si esta en rango 30\n",
            "numero fuera de rango\n"
          ]
        }
      ],
      "source": [
        "def rango(numero):  \n",
        "    lista = [1,2,3,4,5,6,7,8,9,10,11,12,13,14,15,16,17,18,19,20,21,22,23,24,25]\n",
        "    if(numero in lista):\n",
        "      print(\"este numero se encuentra en el rango\")\n",
        "    else:\n",
        "      print(\"numero fuera de rango\") \n",
        "\n",
        "\n",
        "numero=int(input(\"ingresa un numero para saber si esta en rango \"))\n",
        "rango(numero)"
      ]
    },
    {
      "cell_type": "markdown",
      "metadata": {
        "id": "Jvc7dTUZa9rd"
      },
      "source": [
        "3. Escribe una función Python que acepte una cadena y calcule el número de letras mayúsculas y minúsculas.\n",
        "\n",
        "Cadena de ejemplo : 'El zorro que corre rápido a Los Santos'\n",
        "\n",
        "Salida esperada :\n",
        "\n",
        "Nº de caracteres en mayúsculas : 3\n",
        "\n",
        "Nº de caracteres en minúsculas : 12"
      ]
    },
    {
      "cell_type": "code",
      "source": [
        "def letras(a): \n",
        "    i=0 \n",
        "    mayusculas=0\n",
        "    minusculas=0\n",
        "    while i < len(a):\n",
        "      letra = a[i]\n",
        "      if letra.isupper() == True:\n",
        "        mayusculas += 1\n",
        "      else:\n",
        "        minusculas += 1\n",
        "      i += 1 \n",
        "    print(\"cantidad de Mayusculas:\" + str(mayusculas))\n",
        "    print(\"cantidad de minusculas:\" + str(minusculas))\n",
        "\n",
        "\n",
        "a=\"Un Gran Poder Conlleva una Gran Responsabilidad\"\n",
        "letras(a)"
      ],
      "metadata": {
        "colab": {
          "base_uri": "https://localhost:8080/"
        },
        "id": "Q67TvYsYfm4v",
        "outputId": "6d504499-f22a-40d6-922b-619ba0ca13d0"
      },
      "execution_count": null,
      "outputs": [
        {
          "output_type": "stream",
          "name": "stdout",
          "text": [
            "cantidad de Mayusculas:6\n",
            "cantidad de minusculas:41\n"
          ]
        }
      ]
    },
    {
      "cell_type": "raw",
      "metadata": {
        "id": "y7gTs-8Bk4Mt"
      },
      "source": []
    }
  ],
  "metadata": {
    "kernelspec": {
      "display_name": "Python 3.10.7 64-bit",
      "language": "python",
      "name": "python3"
    },
    "language_info": {
      "name": "python",
      "version": "3.10.7"
    },
    "orig_nbformat": 4,
    "vscode": {
      "interpreter": {
        "hash": "f0ee762d84ddad7086513e3826a35260320b545ff56322a682f2835eb942653a"
      }
    },
    "colab": {
      "provenance": [],
      "collapsed_sections": [
        "xrDFQDeqZXYL",
        "ldUNcArXZXYL"
      ]
    }
  },
  "nbformat": 4,
  "nbformat_minor": 0
}